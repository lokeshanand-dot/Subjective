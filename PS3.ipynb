{
  "nbformat": 4,
  "nbformat_minor": 0,
  "metadata": {
    "colab": {
      "provenance": [],
      "authorship_tag": "ABX9TyNjeUSUPCgy/rTponTE0Ju+",
      "include_colab_link": true
    },
    "kernelspec": {
      "name": "python3",
      "display_name": "Python 3"
    },
    "language_info": {
      "name": "python"
    }
  },
  "cells": [
    {
      "cell_type": "markdown",
      "metadata": {
        "id": "view-in-github",
        "colab_type": "text"
      },
      "source": [
        "<a href=\"https://colab.research.google.com/github/lokeshanand-dot/Subjective/blob/master/PS3.ipynb\" target=\"_parent\"><img src=\"https://colab.research.google.com/assets/colab-badge.svg\" alt=\"Open In Colab\"/></a>"
      ]
    },
    {
      "cell_type": "markdown",
      "source": [
        "# **Problem statement 03**"
      ],
      "metadata": {
        "id": "QgyKA85rZQcr"
      }
    },
    {
      "cell_type": "markdown",
      "source": [
        "numbers_nested = [[1, -1,2], [0, -5,3,5, -21, [1, 2, 1,0, -2, -3]]\n",
        "Write a program to grab only positive numbers in each nested list and put that in a new list"
      ],
      "metadata": {
        "id": "EjYwekzqZVTk"
      }
    },
    {
      "cell_type": "code",
      "source": [
        "nested_num = [[1, -1, 2], [0, -5, 3, 5, -21], [1, 2, 1, 0, -2, -3]]\n",
        "positive_num = [num for sublist in nested_num if isinstance(sublist, list) for num in sublist if num > 0]\n",
        "print(\"Positive numbers from each nested list:\")\n",
        "print(positive_num)"
      ],
      "metadata": {
        "colab": {
          "base_uri": "https://localhost:8080/"
        },
        "id": "TVjfTgmuZaZ0",
        "outputId": "e1ca85f3-721b-4e93-d364-bbf6b2cab42d"
      },
      "execution_count": null,
      "outputs": [
        {
          "output_type": "stream",
          "name": "stdout",
          "text": [
            "Positive numbers from each nested list:\n",
            "[1, 2, 3, 5, 1, 2, 1]\n"
          ]
        }
      ]
    },
    {
      "cell_type": "markdown",
      "source": [
        "I = [ I1,2,3] , I 4,5,6,3 1, [-1, -2, -10,5,8] 1\n",
        "Write a program to to print the average sum of value from each inner list and print the sum of\n",
        "each average"
      ],
      "metadata": {
        "id": "_SqlKvd9aJoJ"
      }
    },
    {
      "cell_type": "code",
      "source": [
        "I = [[1, 2, 3], [4, 5, 6, 3], [-1, -2, -10, 5, 8]]\n",
        "average_list = [sum(inner_list) / len(inner_list) for inner_list in I]\n",
        "sum_of_averages = sum(average_list)\n",
        "print(\"Average sum of values from each inner list:\", average_list)\n",
        "print(\"Sum of the averages:\", sum_of_averages)"
      ],
      "metadata": {
        "colab": {
          "base_uri": "https://localhost:8080/"
        },
        "id": "T9IvHpeZaM7-",
        "outputId": "0fb504e2-a872-496b-de77-a5dee8af6606"
      },
      "execution_count": null,
      "outputs": [
        {
          "output_type": "stream",
          "name": "stdout",
          "text": [
            "Average sum of values from each inner list: [2.0, 4.5, 0.0]\n",
            "Sum of the averages: 6.5\n"
          ]
        }
      ]
    }
  ]
}