{
  "nbformat": 4,
  "nbformat_minor": 0,
  "metadata": {
    "colab": {
      "provenance": [],
      "authorship_tag": "ABX9TyNuR5otlPvbZ51ZzdQi3iwj",
      "include_colab_link": true
    },
    "kernelspec": {
      "name": "python3",
      "display_name": "Python 3"
    },
    "language_info": {
      "name": "python"
    }
  },
  "cells": [
    {
      "cell_type": "markdown",
      "metadata": {
        "id": "view-in-github",
        "colab_type": "text"
      },
      "source": [
        "<a href=\"https://colab.research.google.com/github/lokeshanand-dot/Subjective/blob/master/Assignment3.ipynb\" target=\"_parent\"><img src=\"https://colab.research.google.com/assets/colab-badge.svg\" alt=\"Open In Colab\"/></a>"
      ]
    },
    {
      "cell_type": "markdown",
      "source": [
        "# **Assignment-3: Functions | Modules**"
      ],
      "metadata": {
        "id": "vvdMJ9TZLCyD"
      }
    },
    {
      "cell_type": "markdown",
      "source": [
        "1.Sample List : (8, 2, 3, 0, 7)\n",
        "  Expected Output : 20"
      ],
      "metadata": {
        "id": "23dxCroQLFSd"
      }
    },
    {
      "cell_type": "code",
      "source": [
        "def calculate_sum(sample_tuple):\n",
        "    sample_list = list(sample_tuple)\n",
        "    return sum(sample_list)\n",
        "sample_tuple = tuple(map(int, input(\"Enter a tuple of integers: \").split()))\n",
        "result = calculate_sum(sample_tuple)\n",
        "print(result)"
      ],
      "metadata": {
        "colab": {
          "base_uri": "https://localhost:8080/"
        },
        "id": "YxqjEyINLMbP",
        "outputId": "9090797b-3a20-4909-eb89-93d94cd20c62"
      },
      "execution_count": 7,
      "outputs": [
        {
          "output_type": "stream",
          "name": "stdout",
          "text": [
            "Enter a tuple of integers: 5 5 5 5 5\n",
            "25\n"
          ]
        }
      ]
    },
    {
      "cell_type": "markdown",
      "source": [
        "2.Sample String : \"1234abcd\"\n",
        "  Expected Output : \"dcba4321\""
      ],
      "metadata": {
        "id": "_ZdsvOCCLYR5"
      }
    },
    {
      "cell_type": "code",
      "source": [
        "def reverse_string(input_string):\n",
        "    reversed_string = input_string[::-1]\n",
        "    return reversed_string\n",
        "sample_string = input(\"Enter a string_number: \")\n",
        "result = reverse_string(sample_string)\n",
        "print(result)"
      ],
      "metadata": {
        "colab": {
          "base_uri": "https://localhost:8080/"
        },
        "id": "S_rfNorVL4SZ",
        "outputId": "22127448-bab0-482c-8b80-6f31a929909c"
      },
      "execution_count": 6,
      "outputs": [
        {
          "output_type": "stream",
          "name": "stdout",
          "text": [
            "Enter a string_number: 1233byhbacudsc\n",
            "csducabhyb3321\n"
          ]
        }
      ]
    },
    {
      "cell_type": "markdown",
      "source": [
        "3.Sample String : 'The quick Brow Fox'\n",
        "  Expected Output :\n",
        "  No. of Upper case characters : 3\n",
        "  No. of Lower case Characters : 12"
      ],
      "metadata": {
        "id": "RHnxZotMMcsh"
      }
    },
    {
      "cell_type": "code",
      "source": [
        "def count_upper_lower_characters(input_string):\n",
        "    upper_count = sum(1 for char in input_string if char.isupper())\n",
        "    lower_count = sum(1 for char in input_string if char.islower())\n",
        "    return upper_count, lower_count\n",
        "sample_string = input(\"Enter a string: \")\n",
        "upper_count, lower_count = count_upper_lower_characters(sample_string)\n",
        "print(\"No. of Upper case characters:\", upper_count)\n",
        "print(\"No. of Lower case characters:\", lower_count)"
      ],
      "metadata": {
        "colab": {
          "base_uri": "https://localhost:8080/"
        },
        "id": "i8k0DMB-MN_a",
        "outputId": "d25b86fe-e30c-4317-fc83-9f264e3ca016"
      },
      "execution_count": 5,
      "outputs": [
        {
          "output_type": "stream",
          "name": "stdout",
          "text": [
            "Enter a string: The quick Brow Fox\n",
            "No. of Upper case characters: 3\n",
            "No. of Lower case characters: 12\n"
          ]
        }
      ]
    }
  ]
}